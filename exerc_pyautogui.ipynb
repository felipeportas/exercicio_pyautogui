{
 "cells": [
  {
   "cell_type": "markdown",
   "source": [
    "# Automação de Sistemas e Processos com Python\r\n",
    "\r\n",
    "### Desafio:\r\n",
    "\r\n",
    "Atualização de vendas do dia anterior.\r\n",
    "O seu trabalho diário é enviar um e-mail para a diretoria com o faturamento e a quantidade de produtos vendidos no dia anterior\r\n",
    "\r\n",
    "E-mail da diretoria: felipeportas@hotmail.com\r\n",
    "Local onde o sistema disponibiliza as vendas do dia anterior: https://drive.google.com/drive/folders/149xknr9JvrlEnhNWO49zPcw0PW5icxga?usp=sharing\r\n",
    "\r\n"
   ],
   "metadata": {
    "id": "fRg3EnD8Eb89"
   }
  },
  {
   "cell_type": "code",
   "execution_count": 4,
   "source": [
    "import pyautogui as pyg\r\n",
    "import time as tm\r\n",
    "import pyperclip as pcp\r\n",
    "\r\n",
    "pyg.PAUSE = 1\r\n",
    "pyg.alert(\"Vai começar, aperte OK e não mexa em nada\")"
   ],
   "outputs": [
    {
     "output_type": "execute_result",
     "data": {
      "text/plain": [
       "'OK'"
      ]
     },
     "metadata": {},
     "execution_count": 4
    }
   ],
   "metadata": {
    "id": "CL_WriwfEb8_"
   }
  },
  {
   "cell_type": "markdown",
   "source": [
    "### Passo 1 - Abrir uma nova aba, entrar no link do sistema e abrir o arquivo"
   ],
   "metadata": {}
  },
  {
   "cell_type": "code",
   "execution_count": 5,
   "source": [
    "pyg.hotkey('ctrl', 't')\r\n",
    "\r\n",
    "link = \"https://drive.google.com/drive/folders/149xknr9JvrlEnhNWO49zPcw0PW5icxga?usp=sharing\"\r\n",
    "pcp.copy(link)\r\n",
    "pyg.hotkey(\"ctrl\", \"v\")\r\n",
    "pyg.press(\"enter\")\r\n",
    "tm.sleep(5)\r\n",
    "\r\n",
    "# Acessar o arquivo\r\n",
    "pyg.click (385, 290, clicks=2)\r\n",
    "tm.sleep(3)\r\n",
    "pyg.click (410, 286)\r\n",
    "pyg.click (1091, 185)\r\n",
    "tm.sleep(1)\r\n",
    "pyg.click (899, 591)\r\n",
    "tm.sleep(7)\r\n"
   ],
   "outputs": [],
   "metadata": {}
  },
  {
   "cell_type": "markdown",
   "source": [
    "### Passo 2 - Analisar o arquivo baixado (ler o arquivo e pegar os indicadores)"
   ],
   "metadata": {}
  },
  {
   "cell_type": "code",
   "execution_count": 6,
   "source": [
    "import pandas as pd\n",
    "tabela = pd.read_excel (r\"E:\\user\\Download\\Vendas - Dez.xlsx\")\n",
    "\n",
    "#lembrando que o Faturamento é igual à somatória da coluna Valor Final \n",
    "faturamento = tabela[\"Valor Final\"].sum()\n",
    "\n",
    "# e a Quantidade é a soma da coluna Quantidade\n",
    "quantidade = tabela[\"Quantidade\"].sum()\n",
    "\n",
    "display (tabela)\n",
    "print (\"O faturamento é de\", faturamento)\n",
    "print (\"A quantidade total é de\", quantidade)"
   ],
   "outputs": [
    {
     "output_type": "display_data",
     "data": {
      "text/plain": [
       "      Código Venda       Data                     ID Loja           Produto  \\\n",
       "0            65014 2019-12-01            Shopping Morumbi    Sunga Listrado   \n",
       "1            65014 2019-12-01            Shopping Morumbi   Casaco Listrado   \n",
       "2            65016 2019-12-01           Iguatemi Campinas   Sapato Listrado   \n",
       "3            65016 2019-12-01           Iguatemi Campinas            Casaco   \n",
       "4            65017 2019-12-01          Shopping SP Market        Gorro Liso   \n",
       "...            ...        ...                         ...               ...   \n",
       "7084         69996 2019-12-26  Center Shopping Uberlândia    Short Listrado   \n",
       "7085         69996 2019-12-26  Center Shopping Uberlândia           Mochila   \n",
       "7086         69996 2019-12-26  Center Shopping Uberlândia  Pulseira Estampa   \n",
       "7087         69997 2019-12-26           Ribeirão Shopping   Camisa Listrado   \n",
       "7088         69997 2019-12-26           Ribeirão Shopping       Short Linho   \n",
       "\n",
       "      Quantidade  Valor Unitário  Valor Final  \n",
       "0              5             114          570  \n",
       "1              1             269          269  \n",
       "2              2             363          726  \n",
       "3              1             250          250  \n",
       "4              3              92          276  \n",
       "...          ...             ...          ...  \n",
       "7084           2             102          204  \n",
       "7085           4             270         1080  \n",
       "7086           1              87           87  \n",
       "7087           1             108          108  \n",
       "7088           2             133          266  \n",
       "\n",
       "[7089 rows x 7 columns]"
      ],
      "text/html": [
       "<div>\n",
       "<style scoped>\n",
       "    .dataframe tbody tr th:only-of-type {\n",
       "        vertical-align: middle;\n",
       "    }\n",
       "\n",
       "    .dataframe tbody tr th {\n",
       "        vertical-align: top;\n",
       "    }\n",
       "\n",
       "    .dataframe thead th {\n",
       "        text-align: right;\n",
       "    }\n",
       "</style>\n",
       "<table border=\"1\" class=\"dataframe\">\n",
       "  <thead>\n",
       "    <tr style=\"text-align: right;\">\n",
       "      <th></th>\n",
       "      <th>Código Venda</th>\n",
       "      <th>Data</th>\n",
       "      <th>ID Loja</th>\n",
       "      <th>Produto</th>\n",
       "      <th>Quantidade</th>\n",
       "      <th>Valor Unitário</th>\n",
       "      <th>Valor Final</th>\n",
       "    </tr>\n",
       "  </thead>\n",
       "  <tbody>\n",
       "    <tr>\n",
       "      <th>0</th>\n",
       "      <td>65014</td>\n",
       "      <td>2019-12-01</td>\n",
       "      <td>Shopping Morumbi</td>\n",
       "      <td>Sunga Listrado</td>\n",
       "      <td>5</td>\n",
       "      <td>114</td>\n",
       "      <td>570</td>\n",
       "    </tr>\n",
       "    <tr>\n",
       "      <th>1</th>\n",
       "      <td>65014</td>\n",
       "      <td>2019-12-01</td>\n",
       "      <td>Shopping Morumbi</td>\n",
       "      <td>Casaco Listrado</td>\n",
       "      <td>1</td>\n",
       "      <td>269</td>\n",
       "      <td>269</td>\n",
       "    </tr>\n",
       "    <tr>\n",
       "      <th>2</th>\n",
       "      <td>65016</td>\n",
       "      <td>2019-12-01</td>\n",
       "      <td>Iguatemi Campinas</td>\n",
       "      <td>Sapato Listrado</td>\n",
       "      <td>2</td>\n",
       "      <td>363</td>\n",
       "      <td>726</td>\n",
       "    </tr>\n",
       "    <tr>\n",
       "      <th>3</th>\n",
       "      <td>65016</td>\n",
       "      <td>2019-12-01</td>\n",
       "      <td>Iguatemi Campinas</td>\n",
       "      <td>Casaco</td>\n",
       "      <td>1</td>\n",
       "      <td>250</td>\n",
       "      <td>250</td>\n",
       "    </tr>\n",
       "    <tr>\n",
       "      <th>4</th>\n",
       "      <td>65017</td>\n",
       "      <td>2019-12-01</td>\n",
       "      <td>Shopping SP Market</td>\n",
       "      <td>Gorro Liso</td>\n",
       "      <td>3</td>\n",
       "      <td>92</td>\n",
       "      <td>276</td>\n",
       "    </tr>\n",
       "    <tr>\n",
       "      <th>...</th>\n",
       "      <td>...</td>\n",
       "      <td>...</td>\n",
       "      <td>...</td>\n",
       "      <td>...</td>\n",
       "      <td>...</td>\n",
       "      <td>...</td>\n",
       "      <td>...</td>\n",
       "    </tr>\n",
       "    <tr>\n",
       "      <th>7084</th>\n",
       "      <td>69996</td>\n",
       "      <td>2019-12-26</td>\n",
       "      <td>Center Shopping Uberlândia</td>\n",
       "      <td>Short Listrado</td>\n",
       "      <td>2</td>\n",
       "      <td>102</td>\n",
       "      <td>204</td>\n",
       "    </tr>\n",
       "    <tr>\n",
       "      <th>7085</th>\n",
       "      <td>69996</td>\n",
       "      <td>2019-12-26</td>\n",
       "      <td>Center Shopping Uberlândia</td>\n",
       "      <td>Mochila</td>\n",
       "      <td>4</td>\n",
       "      <td>270</td>\n",
       "      <td>1080</td>\n",
       "    </tr>\n",
       "    <tr>\n",
       "      <th>7086</th>\n",
       "      <td>69996</td>\n",
       "      <td>2019-12-26</td>\n",
       "      <td>Center Shopping Uberlândia</td>\n",
       "      <td>Pulseira Estampa</td>\n",
       "      <td>1</td>\n",
       "      <td>87</td>\n",
       "      <td>87</td>\n",
       "    </tr>\n",
       "    <tr>\n",
       "      <th>7087</th>\n",
       "      <td>69997</td>\n",
       "      <td>2019-12-26</td>\n",
       "      <td>Ribeirão Shopping</td>\n",
       "      <td>Camisa Listrado</td>\n",
       "      <td>1</td>\n",
       "      <td>108</td>\n",
       "      <td>108</td>\n",
       "    </tr>\n",
       "    <tr>\n",
       "      <th>7088</th>\n",
       "      <td>69997</td>\n",
       "      <td>2019-12-26</td>\n",
       "      <td>Ribeirão Shopping</td>\n",
       "      <td>Short Linho</td>\n",
       "      <td>2</td>\n",
       "      <td>133</td>\n",
       "      <td>266</td>\n",
       "    </tr>\n",
       "  </tbody>\n",
       "</table>\n",
       "<p>7089 rows × 7 columns</p>\n",
       "</div>"
      ]
     },
     "metadata": {}
    },
    {
     "output_type": "stream",
     "name": "stdout",
     "text": [
      "O faturamento é de 2917311\n",
      "A quantidade total é de 15227\n"
     ]
    }
   ],
   "metadata": {
    "scrolled": true
   }
  },
  {
   "cell_type": "markdown",
   "source": [
    "### Passo 3 - Enviar um e-mail pelo gmail"
   ],
   "metadata": {
    "id": "0X4i17UWEb9A"
   }
  },
  {
   "cell_type": "code",
   "execution_count": 8,
   "source": [
    "# tem abrir uma nova aba\n",
    "pyg.hotkey('ctrl', 't')\n",
    "link1 = \"mail.google.com\"\n",
    "pcp.copy(link1)\n",
    "pyg.hotkey(\"ctrl\", \"v\")\n",
    "pyg.press(\"enter\")\n",
    "tm.sleep(3)\n",
    "pyg.click (109, 195)\n",
    "tm.sleep(3)\n",
    "\n",
    "#inserindo e-mail\n",
    "link2 = \"felipeportas@hotmail.com\"\n",
    "pcp.copy(link2)\n",
    "pyg.hotkey(\"ctrl\", \"v\")\n",
    "\n",
    "#inserindo o assunto\n",
    "pyg.press(\"tab\")\n",
    "pyg.write (\"Faturamento e Quantitativo Semanal\")\n",
    "pyg.press(\"tab\")\n",
    "\n",
    "#escrever o email\n",
    "\n",
    "texto_email = f\"\"\"\n",
    "Prezados, bom dia.\n",
    "\n",
    "O faturamento semanal foi de R$ {faturamento:,.2f}, com a seguinte quantidade de produtos: {quantidade:,}.\n",
    "\n",
    "Att,\n",
    "Felipe\n",
    "\"\"\"\n",
    "pyg.write(texto_email)\n",
    "\n",
    "#clicar em enviar - atalho do gmail\n",
    "pyg.hotkey(\"ctrl\", \"enter\")"
   ],
   "outputs": [],
   "metadata": {
    "id": "mhf69UrGEb9A"
   }
  },
  {
   "cell_type": "markdown",
   "source": [
    "#### Use esse código para descobrir qual a posição de um item que queira clicar\n",
    "\n",
    "- Lembre-se: a posição em tela de diferentes resoluções varia"
   ],
   "metadata": {
    "id": "Y7D1LpcGEb9A"
   }
  },
  {
   "cell_type": "code",
   "execution_count": null,
   "source": [
    "time.sleep(5)\n",
    "pyautogui.position()"
   ],
   "outputs": [],
   "metadata": {
    "id": "4-uyUqGqEb9B"
   }
  }
 ],
 "metadata": {
  "colab": {
   "name": "Arquivo Inicial - Aula 1.ipynb",
   "provenance": []
  },
  "kernelspec": {
   "display_name": "Python 3",
   "language": "python",
   "name": "python3"
  },
  "language_info": {
   "codemirror_mode": {
    "name": "ipython",
    "version": 3
   },
   "file_extension": ".py",
   "mimetype": "text/x-python",
   "name": "python",
   "nbconvert_exporter": "python",
   "pygments_lexer": "ipython3",
   "version": "3.8.5"
  }
 },
 "nbformat": 4,
 "nbformat_minor": 1
}
